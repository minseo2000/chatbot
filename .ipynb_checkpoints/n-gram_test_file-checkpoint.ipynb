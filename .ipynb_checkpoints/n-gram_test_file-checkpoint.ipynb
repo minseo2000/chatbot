{
 "cells": [
  {
   "cell_type": "code",
   "execution_count": 2,
   "id": "b4f740a9",
   "metadata": {},
   "outputs": [],
   "source": [
    "# n-gram 유사도 \n",
    "\n",
    "from konlpy.tag import Komoran\n",
    "\n",
    "def word_ngram(bow, num_gram):\n",
    "    text = tuple(bow)\n",
    "    ngrams = [text[x:x+num_gram] for x in range(0, len(text))]\n",
    "    return tuple(ngrams)\n",
    "\n",
    "def similarity(doc1, doc2):\n",
    "    cnt = 0\n",
    "    for token in doc1:\n",
    "        if token in doc2:\n",
    "            cnt = cnt+1\n",
    "    return cnt/len(doc1)"
   ]
  },
  {
   "cell_type": "code",
   "execution_count": 3,
   "id": "29a06d1c",
   "metadata": {},
   "outputs": [],
   "source": [
    "sentence1 = \"6월에 뉴턴은 선생님의 제안으로 트리니티에 입학했다.\"\n",
    "sentence2 = \"6월에 뉴턴은 선생님의 제안으로 대학교에 입학했다.\""
   ]
  },
  {
   "cell_type": "code",
   "execution_count": 4,
   "id": "15d63627",
   "metadata": {},
   "outputs": [
    {
     "name": "stdout",
     "output_type": "stream",
     "text": [
      "[0.003s][warning][os,thread] Attempt to protect stack guard pages failed (0x000000016bbd4000-0x000000016bbe0000).\n",
      "[0.003s][warning][os,thread] Attempt to deallocate stack guard pages failed.\n",
      "(('6월', '뉴턴'), ('뉴턴', '선생님'), ('선생님', '제안'), ('제안', '트리니티'), ('트리니티', '입학'), ('입학',))\n",
      "(('6월', '뉴턴'), ('뉴턴', '선생님'), ('선생님', '제안'), ('제안', '대학교'), ('대학교', '입학'), ('입학',))\n"
     ]
    }
   ],
   "source": [
    "komoran = Komoran()\n",
    "\n",
    "bow1 = komoran.nouns(sentence1)\n",
    "bow2 = komoran.nouns(sentence2)\n",
    "\n",
    "doc1 = word_ngram(bow1, 2)\n",
    "doc2 = word_ngram(bow2, 2)\n",
    "\n",
    "print(doc1)\n",
    "print(doc2)"
   ]
  },
  {
   "cell_type": "code",
   "execution_count": 5,
   "id": "f204f821",
   "metadata": {},
   "outputs": [
    {
     "name": "stdout",
     "output_type": "stream",
     "text": [
      "0.6666666666666666\n"
     ]
    }
   ],
   "source": [
    "r1 = similarity(doc1, doc2)\n",
    "print(r1)"
   ]
  },
  {
   "cell_type": "code",
   "execution_count": null,
   "id": "3dc0bb83",
   "metadata": {},
   "outputs": [],
   "source": []
  }
 ],
 "metadata": {
  "kernelspec": {
   "display_name": "Python 3 (ipykernel)",
   "language": "python",
   "name": "python3"
  },
  "language_info": {
   "codemirror_mode": {
    "name": "ipython",
    "version": 3
   },
   "file_extension": ".py",
   "mimetype": "text/x-python",
   "name": "python",
   "nbconvert_exporter": "python",
   "pygments_lexer": "ipython3",
   "version": "3.8.16"
  }
 },
 "nbformat": 4,
 "nbformat_minor": 5
}
